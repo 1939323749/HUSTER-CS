{
 "cells": [
  {
   "cell_type": "code",
   "execution_count": 4,
   "metadata": {},
   "outputs": [],
   "source": [
    "import numpy as np\n",
    "import struct\n",
    "def load_images(file_name):\n",
    "    ##   在读取或写入一个文件之前，你必须使用 Python 内置open()函数来打开它。##\n",
    "    ##   这里rb表示只能以二进制读取的方式打开一个文件                      ##\n",
    "    binfile = open(file_name, 'rb') \n",
    "    ##   从一个打开的文件读取数据\n",
    "    buffers = binfile.read()\n",
    "    ##   读取image文件前4个整型数字\n",
    "    magic,num,rows,cols = struct.unpack_from('>IIII',buffers, 0)\n",
    "    ##   整个images数据大小为60000*28*28\n",
    "    bits = num * rows * cols\n",
    "    ##   读取images数据\n",
    "    images = struct.unpack_from('>' + str(bits) + 'B', buffers, struct.calcsize('>IIII'))\n",
    "    ##   关闭文件\n",
    "    binfile.close()\n",
    "    ##   转换为[60000,784]型数组\n",
    "    images = np.reshape(images, [num, rows * cols])\n",
    "    return images\n",
    "\n",
    "def load_labels(file_name):\n",
    "    ##   打开文件\n",
    "    binfile = open(file_name, 'rb')\n",
    "    ##   从一个打开的文件读取数据    \n",
    "    buffers = binfile.read()\n",
    "    ##   读取label文件前2个整形数字，label的长度为num\n",
    "    magic,num = struct.unpack_from('>II', buffers, 0) \n",
    "    ##   读取labels数据\n",
    "    labels = struct.unpack_from('>' + str(num) + \"B\", buffers, struct.calcsize('>II'))\n",
    "    ##   关闭文件\n",
    "    binfile.close()\n",
    "    ##   转换为一维数组\n",
    "    labels = np.reshape(labels, [num])\n",
    "    return labels"
   ]
  },
  {
   "cell_type": "code",
   "execution_count": 5,
   "metadata": {},
   "outputs": [],
   "source": [
    "filename_train_images = \"MNIST/train-images-idx3-ubyte\"\n",
    "filename_train_labels = 'MNIST/train-labels-idx1-ubyte'\n",
    "##filename_test_images = 'MNIST/t10k-images.idx3-ubyte'\n",
    "##filename_test_labels = 'MNIST/t10k-labels.idx1-ubyte'\n",
    "## train_images=load_images(filename_train_images)\n",
    "## train_labels=load_labels(filename_train_labels)\n",
    "##test_images=load_images(filename_test_images)\n",
    "##test_labels=load_labels(filename_test_labels)"
   ]
  },
  {
   "cell_type": "code",
   "execution_count": 1,
   "metadata": {},
   "outputs": [
    {
     "output_type": "error",
     "ename": "NameError",
     "evalue": "name 'np' is not defined",
     "traceback": [
      "\u001b[0;31m---------------------------------------------------------------------------\u001b[0m",
      "\u001b[0;31mNameError\u001b[0m                                 Traceback (most recent call last)",
      "\u001b[0;32m<ipython-input-1-02d3d3c2ca59>\u001b[0m in \u001b[0;36m<module>\u001b[0;34m\u001b[0m\n\u001b[1;32m      7\u001b[0m \u001b[0mfig\u001b[0m\u001b[0;34m.\u001b[0m\u001b[0msubplots_adjust\u001b[0m\u001b[0;34m(\u001b[0m\u001b[0mleft\u001b[0m\u001b[0;34m=\u001b[0m\u001b[0;36m0\u001b[0m\u001b[0;34m,\u001b[0m\u001b[0mright\u001b[0m\u001b[0;34m=\u001b[0m\u001b[0;36m1\u001b[0m\u001b[0;34m,\u001b[0m\u001b[0mbottom\u001b[0m\u001b[0;34m=\u001b[0m\u001b[0;36m0\u001b[0m\u001b[0;34m,\u001b[0m\u001b[0mtop\u001b[0m\u001b[0;34m=\u001b[0m\u001b[0;36m1\u001b[0m\u001b[0;34m,\u001b[0m\u001b[0mhspace\u001b[0m\u001b[0;34m=\u001b[0m\u001b[0;36m0.05\u001b[0m\u001b[0;34m,\u001b[0m\u001b[0mwspace\u001b[0m\u001b[0;34m=\u001b[0m\u001b[0;36m0.05\u001b[0m\u001b[0;34m)\u001b[0m\u001b[0;34m\u001b[0m\u001b[0;34m\u001b[0m\u001b[0m\n\u001b[1;32m      8\u001b[0m \u001b[0;32mfor\u001b[0m \u001b[0mi\u001b[0m \u001b[0;32min\u001b[0m \u001b[0mrange\u001b[0m\u001b[0;34m(\u001b[0m\u001b[0;36m30\u001b[0m\u001b[0;34m)\u001b[0m\u001b[0;34m:\u001b[0m\u001b[0;34m\u001b[0m\u001b[0;34m\u001b[0m\u001b[0m\n\u001b[0;32m----> 9\u001b[0;31m     \u001b[0mimages\u001b[0m \u001b[0;34m=\u001b[0m \u001b[0mnp\u001b[0m\u001b[0;34m.\u001b[0m\u001b[0mreshape\u001b[0m\u001b[0;34m(\u001b[0m\u001b[0mtrain_images\u001b[0m\u001b[0;34m[\u001b[0m\u001b[0mi\u001b[0m\u001b[0;34m]\u001b[0m\u001b[0;34m,\u001b[0m \u001b[0;34m[\u001b[0m\u001b[0;36m28\u001b[0m\u001b[0;34m,\u001b[0m\u001b[0;36m28\u001b[0m\u001b[0;34m]\u001b[0m\u001b[0;34m)\u001b[0m\u001b[0;34m\u001b[0m\u001b[0;34m\u001b[0m\u001b[0m\n\u001b[0m\u001b[1;32m     10\u001b[0m     \u001b[0max\u001b[0m\u001b[0;34m=\u001b[0m\u001b[0mfig\u001b[0m\u001b[0;34m.\u001b[0m\u001b[0madd_subplot\u001b[0m\u001b[0;34m(\u001b[0m\u001b[0;36m6\u001b[0m\u001b[0;34m,\u001b[0m\u001b[0;36m5\u001b[0m\u001b[0;34m,\u001b[0m\u001b[0mi\u001b[0m\u001b[0;34m+\u001b[0m\u001b[0;36m1\u001b[0m\u001b[0;34m,\u001b[0m\u001b[0mxticks\u001b[0m\u001b[0;34m=\u001b[0m\u001b[0;34m[\u001b[0m\u001b[0;34m]\u001b[0m\u001b[0;34m,\u001b[0m\u001b[0myticks\u001b[0m\u001b[0;34m=\u001b[0m\u001b[0;34m[\u001b[0m\u001b[0;34m]\u001b[0m\u001b[0;34m)\u001b[0m\u001b[0;34m\u001b[0m\u001b[0;34m\u001b[0m\u001b[0m\n\u001b[1;32m     11\u001b[0m     \u001b[0max\u001b[0m\u001b[0;34m.\u001b[0m\u001b[0mimshow\u001b[0m\u001b[0;34m(\u001b[0m\u001b[0mimages\u001b[0m\u001b[0;34m,\u001b[0m\u001b[0mcmap\u001b[0m\u001b[0;34m=\u001b[0m\u001b[0mplt\u001b[0m\u001b[0;34m.\u001b[0m\u001b[0mcm\u001b[0m\u001b[0;34m.\u001b[0m\u001b[0mbinary\u001b[0m\u001b[0;34m,\u001b[0m\u001b[0minterpolation\u001b[0m\u001b[0;34m=\u001b[0m\u001b[0;34m'nearest'\u001b[0m\u001b[0;34m)\u001b[0m\u001b[0;34m\u001b[0m\u001b[0;34m\u001b[0m\u001b[0m\n",
      "\u001b[0;31mNameError\u001b[0m: name 'np' is not defined"
     ]
    }
   ],
   "source": [
    "## 打印图片\n",
    "import matplotlib\n",
    "matplotlib.use('TkAgg') ##macOS需要换一下后端才能显示图片。\n",
    "from matplotlib import pyplot as plt\n",
    "\n",
    "fig=plt.figure(figsize=(8,8))\n",
    "fig.subplots_adjust(left=0,right=1,bottom=0,top=1,hspace=0.05,wspace=0.05)\n",
    "for i in range(30):\n",
    "    images = np.reshape(train_images[i], [28,28])\n",
    "    ax=fig.add_subplot(6,5,i+1,xticks=[],yticks=[])\n",
    "    ax.imshow(images,cmap=plt.cm.binary,interpolation='nearest')\n",
    "    ax.text(0,7,str(train_labels[i]))\n",
    "plt.show()"
   ]
  },
  {
   "cell_type": "markdown",
   "metadata": {},
   "source": [
    "# KNN算法实现"
   ]
  },
  {
   "cell_type": "markdown",
   "metadata": {},
   "source": [
    "# 读取数据 image label"
   ]
  },
  {
   "cell_type": "code",
   "execution_count": 3,
   "metadata": {},
   "outputs": [],
   "source": [
    "from numpy import *\n",
    "import operator\n",
    "import os\n",
    "import numpy as np\n",
    "import matplotlib.pyplot as plt\n",
    "from matplotlib import cm\n",
    "from os import listdir\n",
    "from mpl_toolkits.mplot3d import Axes3D\n",
    "import struct\n",
    "\n",
    "#读取图片\n",
    "def read_image(file_name):\n",
    "    #先用二进制方式把文件都读进来\n",
    "    file_handle=open(file_name,\"rb\")  #以二进制打开文档\n",
    "    file_content=file_handle.read()   #读取到缓冲区中\n",
    "\n",
    "    offset=0\n",
    "    head = struct.unpack_from('>IIII', file_content, offset)  # 取前4个整数，返回一个元组\n",
    "    offset += struct.calcsize('>IIII')\n",
    "    imgNum = head[1]  #图片数\n",
    "    rows = head[2]   #宽度\n",
    "    cols = head[3]  #高度\n",
    "    # print(imgNum)\n",
    "    # print(rows)\n",
    "    # print(cols)\n",
    "\n",
    "    #测试读取一个图片是否读取成功\n",
    "    #im = struct.unpack_from('>784B', file_content, offset)\n",
    "    #offset += struct.calcsize('>784B')\n",
    "\n",
    "    images=np.empty((imgNum , 784))#empty，是它所常见的数组内的所有元素均为空，没有实际意义，它是创建数组最快的方法\n",
    "    image_size=rows*cols#单个图片的大小\n",
    "    fmt='>' + str(image_size) + 'B'#单个图片的format\n",
    "\n",
    "    for i in range(imgNum):\n",
    "        images[i] = np.array(struct.unpack_from(fmt, file_content, offset))\n",
    "        # images[i] = np.array(struct.unpack_from(fmt, file_content, offset)).reshape((rows, cols))\n",
    "        offset += struct.calcsize(fmt)\n",
    "\n",
    "    return images\n",
    "\n",
    "    '''bits = imgNum * rows * cols  # data一共有60000*28*28个像素值\n",
    "    bitsString = '>' + str(bits) + 'B'  # fmt格式：'>47040000B'\n",
    "    imgs = struct.unpack_from(bitsString, file_content, offset)  # 取data数据，返回一个元组\n",
    "    imgs_array=np.array(imgs).reshape((imgNum,rows*cols))     #最后将读取的数据reshape成 【图片数，图片像素】二维数组\n",
    "    return imgs_array'''\n",
    "\n",
    "def read_label(file_name):\n",
    "    file_handle = open(file_name, \"rb\")  # 以二进制打开文档\n",
    "    file_content = file_handle.read()  # 读取到缓冲区中\n",
    "\n",
    "    head = struct.unpack_from('>II', file_content, 0)  # 取前2个整数，返回一个元组\n",
    "    offset = struct.calcsize('>II')\n",
    "\n",
    "    labelNum = head[1]  # label数\n",
    "    # print(labelNum)\n",
    "    bitsString = '>' + str(labelNum) + 'B'  # fmt格式：'>47040000B'\n",
    "    label = struct.unpack_from(bitsString, file_content, offset)  # 取data数据，返回一个元组\n",
    "    return np.array(label)"
   ]
  },
  {
   "cell_type": "markdown",
   "metadata": {},
   "source": [
    "# KNN Train"
   ]
  },
  {
   "cell_type": "code",
   "execution_count": 4,
   "metadata": {},
   "outputs": [],
   "source": [
    "# KNN算法\n",
    "def KNN(test_data, images, labels, k):\n",
    "    # images.shape[0]表示的是读取矩阵第一维度的长度，代表行数60k\n",
    "    dataSetSize = images.shape[0]  # 60k\n",
    "    # tile函数在行上重复dataSetSize次，在列上重复1次\n",
    "    # 将test_data乘60k。再reshape成784行*60000列\n",
    "    distance1 = tile(test_data, (dataSetSize)).reshape((dataSetSize,784))-images\n",
    "    # 每个元素平方\n",
    "    distance2 = distance1**2\n",
    "    # 矩阵每行相加\n",
    "    distance3 = distance2.sum(axis=1) # 合并成一行\n",
    "    # 开方\n",
    "    distances4 = distance3**0.5\n",
    "    # 欧氏距离计算结束\n",
    "    # 返回从小到大排序的索引\n",
    "    sortedDistIndicies = distances4.argsort()\n",
    "    classCount=np.zeros((10), np.int32) #10是代表10个类别\n",
    "    for i in range(k): # 统计排在前k名的预测结果\n",
    "        ## 找到图片对应的数据\n",
    "        voteIlabel = labels[sortedDistIndicies[i]] \n",
    "        ## 把这个Count + 1\n",
    "        classCount[voteIlabel] += 1\n",
    "\n",
    "    return np.argmax(classCount)"
   ]
  },
  {
   "cell_type": "markdown",
   "metadata": {},
   "source": [
    "# KNN Test"
   ]
  },
  {
   "cell_type": "code",
   "execution_count": 15,
   "metadata": {},
   "outputs": [],
   "source": [
    "def KNN_TEST(train_x,test_x,train_y,test_y,k):    \n",
    "\n",
    "    testRatio = 1  # 取数据集的前0.1为测试数据,这个参数比重可以改变\n",
    "    train_row = train_x.shape[0]  # 数据集的行数，即数据集的总的样本数\n",
    "    test_row=test_x.shape[0]\n",
    "    print('测试图片数量:',test_row)\n",
    "    testNum = int(test_row * testRatio)\n",
    "    errorCount = 0  # 判断错误的个数\n",
    "    error = []\n",
    "    for i in range(testNum):\n",
    "        result = KNN(test_x[i], train_x, train_y, k)\n",
    "    errorCount = 0  # 判断错误的个数\n",
    "    for i in range(testNum):\n",
    "        result = KNN(test_x[i], train_x, train_y, k)\n",
    "        # print('返回的结果是: %s, 真实结果是: %s' % (result, test_y[i]))\n",
    "        if result != test_y[i]:\n",
    "            errorCount += 1.0 # 如果mnist验证集的标签和本身标签不一样，则出错\n",
    "            print('返回的结果是: %s, 真实结果是: %s' % (result, test_y[i]))\n",
    "            error.append(i)\n",
    "        # print(i)\n",
    "    \n",
    "    error_rate = errorCount / float(testNum)  # 计算出错率\n",
    "    acc = 1.0 - error_rate\n",
    "    print(\"\\n正确预测率: %f\" % (acc))\n",
    "    print(\"\\n错误预测率: %f\" % (error_rate))\n",
    "    print(\"\\n错误预测的图片数量: %d\" % errorCount)\n",
    "    return error"
   ]
  },
  {
   "cell_type": "markdown",
   "metadata": {},
   "source": [
    "# 传入数据"
   ]
  },
  {
   "cell_type": "code",
   "execution_count": 16,
   "metadata": {},
   "outputs": [],
   "source": [
    "train_image = \"MNIST/train-images-idx3-ubyte\"\n",
    "test_image = \"MNIST/t10k-images-idx3-ubyte\"\n",
    "train_label = \"MNIST/train-labels-idx1-ubyte\"\n",
    "test_label = \"MNIST/t10k-labels-idx1-ubyte\"\n",
    "# 读取数据\n",
    "train_x = read_image(train_image)  # train_image\n",
    "test_x = read_image(test_image)  # test_image\n",
    "train_y = read_label(train_label)  # train_label\n",
    "test_y = read_label(test_label)  # test_label\n",
    "\n",
    "##save_train_images = \"SAVE/\"\n",
    "##for i in range(3):\n",
    "##    path = save_train_images+str(i)+'.txt'\n",
    "##    #打印文件路径\n",
    "##    print(path)\n",
    "##    #保存为txt格式\n",
    "##    np.savetxt(path,train_x[i].reshape(28,28),fmt=\"%5d\",delimiter=\",##\")\n",
    "## print(train_x.shape)\n"
   ]
  },
  {
   "cell_type": "markdown",
   "metadata": {},
   "source": [
    "# 设置运行参数"
   ]
  },
  {
   "cell_type": "code",
   "execution_count": 26,
   "metadata": {},
   "outputs": [],
   "source": [
    "# 训练图片数\n",
    "trainNum = 6000\n",
    "# 测试图片数\n",
    "testNum = 100\n",
    "# 距离最小的k个图片\n",
    "k = 10\n",
    "\n",
    "train_Start = random.randint(0,60001-trainNum)\n",
    "train_End = train_Start+trainNum\n",
    "train_i = train_x[train_Start:train_End,:]\n",
    "train_l = train_y[train_Start:train_End]\n",
    "\n",
    "test_Start = random.randint(0,10001-testNum)\n",
    "test_End = test_Start+testNum\n",
    "test_i = test_x[test_Start:test_End,:]\n",
    "test_l = test_y[test_Start:test_End]"
   ]
  },
  {
   "cell_type": "markdown",
   "metadata": {},
   "source": [
    "# 运行"
   ]
  },
  {
   "cell_type": "code",
   "execution_count": 27,
   "metadata": {},
   "outputs": [
    {
     "output_type": "stream",
     "name": "stdout",
     "text": "训练集图片数量： 6000 区间: 44740 ~ 50740\n测试集图片数量： 100 区间: 1886 ~ 1986\n测试图片数量: 100\n返回的结果是: 4, 真实结果是: 9\n返回的结果是: 6, 真实结果是: 4\n返回的结果是: 1, 真实结果是: 8\n返回的结果是: 0, 真实结果是: 6\n返回的结果是: 3, 真实结果是: 5\n返回的结果是: 0, 真实结果是: 2\n\n正确预测率: 0.940000\n\n错误预测率: 0.060000\n\n错误预测的图片数量: 6\n1901\n1938\n1968\n1969\n1970\n1984\n程序运行时间: 0:00:04.347431\n"
    }
   ],
   "source": [
    "import datetime\n",
    "start = datetime.datetime.now()\n",
    "\n",
    "print('训练集图片数量：',train_i.shape[0],'区间:',train_Start,'~',train_End)\n",
    "print('测试集图片数量：',test_i.shape[0],'区间:',test_Start,'~',test_End)\n",
    "\n",
    "error=KNN_TEST(train_i,test_i,train_l,test_l,k)\n",
    "for i in error:\n",
    "    i+=test_Start\n",
    "    print(i)\n",
    "\n",
    "end = datetime.datetime.now()\n",
    "print ('程序运行时间:',end-start)"
   ]
  },
  {
   "cell_type": "code",
   "execution_count": 52,
   "metadata": {},
   "outputs": [
    {
     "output_type": "execute_result",
     "data": {
      "text/plain": "0"
     },
     "metadata": {},
     "execution_count": 52
    }
   ],
   "source": []
  },
  {
   "cell_type": "code",
   "execution_count": null,
   "metadata": {},
   "outputs": [],
   "source": []
  }
 ],
 "metadata": {
  "language_info": {
   "codemirror_mode": {
    "name": "ipython",
    "version": 3
   },
   "file_extension": ".py",
   "mimetype": "text/x-python",
   "name": "python",
   "nbconvert_exporter": "python",
   "pygments_lexer": "ipython3",
   "version": "3.7.3-final"
  },
  "orig_nbformat": 2,
  "kernelspec": {
   "name": "python37364bitbaseconda12cedf669173426cb0cfb548cfc60e96",
   "display_name": "Python 3.7.3 64-bit ('base': conda)"
  }
 },
 "nbformat": 4,
 "nbformat_minor": 2
}