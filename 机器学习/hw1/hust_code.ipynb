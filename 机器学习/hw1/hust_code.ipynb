{
 "cells": [
  {
   "cell_type": "markdown",
   "metadata": {},
   "source": [
    "## 将GIF的第二张PNG抽出,其中一定包含四个数字"
   ]
  },
  {
   "cell_type": "code",
   "execution_count": null,
   "metadata": {},
   "outputs": [],
   "source": [
    "import os\n",
    "from matplotlib import cm\n",
    "from os import listdir\n",
    "from mpl_toolkits.mplot3d import Axes3D\n",
    "import struct\n",
    "import numpy as np\n",
    "import matplotlib.pyplot as plt\n",
    "from PIL import Image,ImageSequence\n",
    "from collections import Counter\n",
    "%matplotlib inline\n",
    "\n",
    "def GIF_toPNG(path,savepath):\n",
    "    #print(\"GIF/%d.gif\"%(i+1))\n",
    "    img = Image.open(path)\n",
    "    select = 0\n",
    "    for frame in ImageSequence.Iterator(img):\n",
    "        select+=1\n",
    "        if(select==2):frame.save(savepath)\n",
    "    code_img = Image.open(savepath)\n",
    "    code_size = code_img.size\n",
    "    h = code_size[0]\n",
    "    w = code_size[1]\n",
    "    # print(\"GIF_PNG/%d.PNG\"%(i+1))\n",
    "    print(\"RAW GIF:%s\\n保存 PNG:%s\"%(path,savepath))\n",
    "files = os.listdir(\"GIF\")\n",
    "for file in files:\n",
    "    path = \"GIF/\"+str(file)\n",
    "    savepath = \"GIF_PNG/\"+str(file)+\".png\"\n",
    "    GIF_toPNG(path,savepath)\n",
    "#GIF_toPNG(path)"
   ]
  },
  {
   "cell_type": "markdown",
   "metadata": {},
   "source": [
    "## 切分PNG为4个单独数字的PNG\n",
    "## 并保存到GIF_SPLIT文件夹下"
   ]
  },
  {
   "cell_type": "code",
   "execution_count": null,
   "metadata": {},
   "outputs": [],
   "source": [
    "def GIF_SPLIT(PATH,SAVEPATH):\n",
    "    png_path = (PATH)\n",
    "    code_img = Image.open(png_path)\n",
    "    for i in range(4):\n",
    "        ## 切隔成4张数字\n",
    "        left = 21*i\n",
    "        low = 19\n",
    "        right = 21*(i+1)\n",
    "        up = 40\n",
    "        split = (left,low,right,up)\n",
    "        img_save = code_img.crop(split)\n",
    "        plt.imshow(img_save)\n",
    "        plt.show()\n",
    "        # img_save.save(\"GIF/%d.png\"%i)\n",
    "        img_array = np.array(img_save)\n",
    "\n",
    "\n",
    "        ## 统计噪声\n",
    "        ## Counter dict sorted\n",
    "        result = Counter({})\n",
    "        noise = []\n",
    "        for j in img_array:\n",
    "            result+=Counter(j)\n",
    "        result = dict(result)\n",
    "        #print(result)\n",
    "        s = sorted(result.values(),reverse = True)\n",
    "        img_array[img_array==s[0]]=0\n",
    "        #print(i)\n",
    "\n",
    "        ## 将噪声和背景全部置0，其他的全部置为1\n",
    "        for k,v in result.items():\n",
    "            if(v != s[0] and v != s[1]):\n",
    "                noise.append(k)\n",
    "            if(v==s[0]):\n",
    "                zero = k\n",
    "            if(v==s[1]):\n",
    "                val = k\n",
    "        for n in noise:\n",
    "            img_array[img_array == n] = 0\n",
    "        img_array[img_array == zero] = 0\n",
    "        img_array[img_array == val] = 255\n",
    "\n",
    "        ## 打印去掉噪声后的图形\n",
    "        im = Image.fromarray(img_array)\n",
    "        plt.imshow(im)\n",
    "        plt.show()\n",
    "        im.save(SAVEPATH+\"-%d.png\"%i)\n",
    "    #np.savetxt(\"GIF/%d.txt\"%i,img_array,fmt =   \"%4d\",delimiter=',')"
   ]
  },
  {
   "cell_type": "markdown",
   "metadata": {},
   "source": [
    "# 开始切分训练集图片"
   ]
  },
  {
   "cell_type": "code",
   "execution_count": null,
   "metadata": {},
   "outputs": [],
   "source": [
    "def GIF_TRAIN():\n",
    "    files= os.listdir(\"GIF_PNG\")\n",
    "    files.remove(\".DS_Store\") #mac下的文件夹配置文件。\n",
    "    for path in files:\n",
    "        PATH = \"GIF_PNG/\"+str(path)\n",
    "        SAVEPATH = \"GIF_SPLIT/\"+str(path)\n",
    "        print(PATH,SAVEPATH)\n",
    "        GIF_SPLIT(PATH,SAVEPATH)\n",
    "## 开始训练，将所有数字切分并保存在GIF_SPLIT中\n",
    "GIF_TRAIN()"
   ]
  },
  {
   "cell_type": "markdown",
   "metadata": {},
   "source": [
    "# 读取测试集图片、开始测试"
   ]
  },
  {
   "cell_type": "code",
   "execution_count": null,
   "metadata": {
    "tags": [
     "outputPrepend"
    ]
   },
   "outputs": [],
   "source": [
    "def KNN_GIF(testpath,gifpath):\n",
    "    # 读取测试GIF\n",
    "    img = Image.open(testpath)\n",
    "    select = 0\n",
    "    for frame in ImageSequence.Iterator(img):\n",
    "        select+=1\n",
    "        if(select==2):\n",
    "            test_png = frame\n",
    "            break\n",
    "    # 打印需要的识别gif\n",
    "    plt.imshow(test_png)\n",
    "    plt.show()\n",
    "    \n",
    "    # 读取所有GIF_SPLIT\n",
    "    files = os.listdir(gifpath)\n",
    "    files.remove(\".DS_Store\")\n",
    "    images=np.empty((len(files), 441))\n",
    "\n",
    "    for i in range(len(files)):\n",
    "        file_content = (gifpath+files[i])\n",
    "        file_open = Image.open(file_content)\n",
    "        images[i] = np.array(file_open).flatten()\n",
    "\n",
    "    # 每一张图片去切割和匹配\n",
    "    for i in range(4):\n",
    "        ## 切隔成4张数字\n",
    "        left = 21*i\n",
    "        low = 19\n",
    "        right = 21*(i+1)\n",
    "        up = 40\n",
    "        split = (left,low,right,up)\n",
    "        img_save = test_png.crop(split)\n",
    "        img_array = np.array(img_save)\n",
    "        result = Counter({})\n",
    "        noise = []\n",
    "        for j in img_array:\n",
    "            result+=Counter(j)\n",
    "        result = dict(result)\n",
    "        s = sorted(result.values(),reverse = True)\n",
    "        img_array[img_array==s[0]]=0\n",
    "        for k,v in result.items():\n",
    "            if(v != s[0] and v != s[1]):\n",
    "                noise.append(k)\n",
    "            if(v==s[0]): #出现最多的一般是背景像素\n",
    "                zero = k\n",
    "            if(v==s[1]): #出现第二多的是数字笔画的像素\n",
    "                val = k\n",
    "        for n in noise:\n",
    "            img_array[img_array == n] = 0 # 噪声全部置0\n",
    "        \n",
    "        img_array[img_array == zero] = 0\n",
    "        img_array[img_array == val] = 255\n",
    "\n",
    "    # KNN算法计算最相似的图片\n",
    "\n",
    "        dataSetSize = images.shape[0]\n",
    "        print(dataSetSize)\n",
    "\n",
    "        distance1 = np.tile(img_array.flatten(), (dataSetSize)).reshape((dataSetSize,441))-images\n",
    "        im = img_array.reshape((21,21))\n",
    "        plt.imshow(Image.fromarray(im))\n",
    "        plt.show()\n",
    "        \n",
    "        distance2 = distance1**2\n",
    "        distance3 = distance2.sum(axis=1) # 合并成一行\n",
    "        distances4 = distance3**0.5\n",
    "        ## 返回从小到大排序的索引\n",
    "        sortedDistIndicies = distances4.argsort()\n",
    "        #print(sortedDistIndicies)\n",
    "\n",
    "        fig=plt.figure(figsize=(8,8))\n",
    "        fig.subplots_adjust(left=0,right=1,bottom=0,top=1,hspace=0.05,wspace=0.05)\n",
    "        for i in range(3):\n",
    "            im = images[sortedDistIndicies[i]].reshape((21,21))\n",
    "            ax=fig.add_subplot(6,5,i+1,xticks=[],yticks=[])\n",
    "            ax.imshow(im,cmap=plt.cm.binary,interpolation='nearest')\n",
    "        plt.show()"
   ]
  },
  {
   "cell_type": "markdown",
   "metadata": {},
   "source": [
    "# 运行"
   ]
  },
  {
   "cell_type": "code",
   "execution_count": null,
   "metadata": {},
   "outputs": [],
   "source": [
    "# 测试图片地址\n",
    "testpath = \"GIF_TEST/test-2.gif\"\n",
    "# 训练集目录\n",
    "gifpath = \"GIF_SPLIT/\"\n",
    "# 运行\n",
    "KNN_GIF(testpath,gifpath)"
   ]
  },
  {
   "cell_type": "code",
   "execution_count": null,
   "metadata": {},
   "outputs": [],
   "source": []
  }
 ],
 "metadata": {
  "language_info": {
   "codemirror_mode": {
    "name": "ipython",
    "version": 3
   },
   "file_extension": ".py",
   "mimetype": "text/x-python",
   "name": "python",
   "nbconvert_exporter": "python",
   "pygments_lexer": "ipython3",
   "version": "3.7.3-final"
  },
  "orig_nbformat": 2,
  "kernelspec": {
   "name": "python37364bitbaseconda12cedf669173426cb0cfb548cfc60e96",
   "display_name": "Python 3.7.3 64-bit ('base': conda)"
  }
 },
 "nbformat": 4,
 "nbformat_minor": 2
}